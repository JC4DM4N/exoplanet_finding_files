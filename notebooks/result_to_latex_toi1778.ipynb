{
 "cells": [
  {
   "cell_type": "code",
   "execution_count": 1,
   "metadata": {},
   "outputs": [],
   "source": [
    "import numpy as np"
   ]
  },
  {
   "cell_type": "code",
   "execution_count": 2,
   "metadata": {},
   "outputs": [],
   "source": [
    "fname = '../TOI_1778/TOI-1778_HN_TESS_1pl_GP'\n",
    "reslog = np.loadtxt(fname+'_results.log',dtype=str,delimiter=',,,')"
   ]
  },
  {
   "cell_type": "code",
   "execution_count": 3,
   "metadata": {
    "scrolled": true
   },
   "outputs": [
    {
     "data": {
      "text/plain": [
       "array(['PyORBIT v8.1', 'Python version in use:',\n",
       "       '3.8.11 (default, Aug  6 2021, 08:56:27) ', '[Clang 10.0.0 ]',\n",
       "       '====================================================================================================',\n",
       "       '     Boundaries of the sampler variables     ',\n",
       "       '====================================================================================================',\n",
       "       '----- dataset:  LCdata',\n",
       "       'jitter_0        14  ([  0.000005,   0.046640])',\n",
       "       '----------  LCdata      ----- model:  normalization_factor',\n",
       "       '----------  LCdata      ----- model:  lc_model_b',\n",
       "       '----- dataset:  RV',\n",
       "       'jitter_0        15  ([  0.006808, 204.204100])',\n",
       "       'offset_0        16  ([35054.793657, 55074.172820])',\n",
       "       '----------  RV      ----- model:  gp_quasiperiodic',\n",
       "       'Hamp            17  ([  0.000000,  40.000000])',\n",
       "       '----------  RV      ----- model:  radial_velocities_b',\n",
       "       '----- common model:  b',\n",
       "       'P                0  ([  2.655352,   2.722466])',\n",
       "       'K                1  ([ -3.321928,   6.643856])',\n",
       "       'sre_coso         2  ([ -1.000000,   1.000000])',\n",
       "       'sre_sino         3  ([ -1.000000,   1.000000])',\n",
       "       'Tc               4  ([8875.000000, 8877.000000])',\n",
       "       'i                5  ([ 80.000000,  90.000000])',\n",
       "       'R                6  ([  0.000010,   0.500000])',\n",
       "       '----- common model:  star_parameters',\n",
       "       'rho              9  ([  0.000000,   5.000000])',\n",
       "       '----- common model:  limb_darkening',\n",
       "       'ld_q1            7  ([  0.000000,   1.000000])',\n",
       "       'ld_q2            8  ([  0.000000,   1.000000])',\n",
       "       '----- common model:  normalization_factor',\n",
       "       'n_factor        13  ([ -0.074001,   0.070389])',\n",
       "       '----- common model:  activity',\n",
       "       'Oamp            10  ([ -6.643856,  -0.321928])',\n",
       "       'Prot            11  ([  5.000000,  30.000000])',\n",
       "       'Pdec            12  ([  1.000000, 500.000000])',\n",
       "       ' Reference Time Tref: 8000.0', ' Dimensions: 18',\n",
       "       ' Samples: 9455',\n",
       "       ' LN posterior: 11648.625719      -2.713633     2.182047 (15-84 p) ',\n",
       "       ' Median log_priors     = -40.537084565021964',\n",
       "       ' Median log_likelihood = 11652.922993888473',\n",
       "       ' Median BIC  (using likelihood) = -23169.5039350613',\n",
       "       ' Median AIC  (using likelihood) = -23269.845987776946',\n",
       "       ' Median AICc (using likelihood) = -23269.491399907583',\n",
       "       ' Median BIC  (using posterior)  = -23088.429765931258',\n",
       "       ' Median AIC  (using posterior)  = -23188.771818646903',\n",
       "       ' Median AICc (using posterior)  = -23188.41723077754',\n",
       "       ' MAP log_priors     = -48.69412706047975',\n",
       "       ' MAP log_likelihood = 11653.648868406484',\n",
       "       ' MAP BIC  (using likelihood) = -23170.955684097324',\n",
       "       ' MAP AIC  (using likelihood) = -23271.29773681297',\n",
       "       ' MAP AICc (using likelihood) = -23270.943148943607',\n",
       "       ' MAP BIC  (using posterior)  = -23073.567429976363',\n",
       "       ' MAP AIC  (using posterior)  = -23173.909482692008',\n",
       "       ' MAP AICc (using posterior)  = -23173.554894822646',\n",
       "       ' AIC suggested over AICs because NDATA (  1948.000000 ) > 40 * NDIM (    18.000000 )',\n",
       "       '****************************************************************************************************',\n",
       "       '****************************************************************************************************',\n",
       "       ' Confidence intervals (median value, 34.135th percentile from the median on the left and right side)',\n",
       "       '====================================================================================================',\n",
       "       '     Statistics on the posterior of the sampler variables     ',\n",
       "       '====================================================================================================',\n",
       "       '----- dataset:  LCdata',\n",
       "       'jitter_0        14      0.000169      -0.000022      0.000021 (15-84 p) ([ 0.000005,  0.046640])',\n",
       "       '----------  LCdata      ----- model:  normalization_factor',\n",
       "       '----------  LCdata      ----- model:  lc_model_b',\n",
       "       '----- dataset:  RV',\n",
       "       'jitter_0        15      0.898024      -0.460827      0.456572 (15-84 p) ([ 0.006808, 204.204100])',\n",
       "       'offset_0        16  45062.993987      -0.870962      0.942402 (15-84 p) ([35054.793657, 55074.172820])',\n",
       "       '----------  RV      ----- model:  gp_quasiperiodic',\n",
       "       'Hamp            17      3.023139      -0.492463      0.638727 (15-84 p) ([ 0.000000, 40.000000])',\n",
       "       '----------  RV      ----- model:  radial_velocities_b',\n",
       "       '----- common model:  b',\n",
       "       'P                0      2.706365      -0.000357      0.000333 (15-84 p) ([ 2.655352,  2.722466])',\n",
       "       'K                1      1.601996      -0.306168      0.268191 (15-84 p) ([-3.321928,  6.643856])',\n",
       "       'sre_coso         2      0.264779      -0.206207      0.157698 (15-84 p) ([-1.000000,  1.000000])',\n",
       "       'sre_sino         3      0.291235      -0.182198      0.118019 (15-84 p) ([-1.000000,  1.000000])',\n",
       "       'Tc               4   8876.000571      -0.003044      0.004149 (15-84 p) ([8875.000000, 8877.000000])',\n",
       "       'i                5     88.360916      -0.864339      0.994100 (15-84 p) ([80.000000, 90.000000])',\n",
       "       'R                6      0.018900      -0.000981      0.000917 (15-84 p) ([ 0.000010,  0.500000])',\n",
       "       '----- common model:  star_parameters',\n",
       "       'rho              9      0.698119      -0.082044      0.084412 (15-84 p) ([ 0.000000,  5.000000])',\n",
       "       '----- common model:  limb_darkening',\n",
       "       'ld_q1            7      0.546381      -0.279528      0.276064 (15-84 p) ([ 0.000000,  1.000000])',\n",
       "       'ld_q2            8      0.519413      -0.298873      0.282111 (15-84 p) ([ 0.000000,  1.000000])',\n",
       "       '----- common model:  normalization_factor',\n",
       "       'n_factor        13      0.000008      -0.000017      0.000016 (15-84 p) ([-0.074001,  0.070389])',\n",
       "       '----- common model:  activity',\n",
       "       'Oamp            10     -0.883647      -0.345155      0.326955 (15-84 p) ([-6.643856, -0.321928])',\n",
       "       'Prot            11     12.877111      -0.675644      0.713392 (15-84 p) ([ 5.000000, 30.000000])',\n",
       "       'Pdec            12     14.600670      -5.663484     11.340895 (15-84 p) ([ 1.000000, 500.000000])',\n",
       "       '====================================================================================================',\n",
       "       '     Statistics on the physical parameters obtained from the posteriors samples     ',\n",
       "       '====================================================================================================',\n",
       "       '----- dataset:  LCdata',\n",
       "       'jitter_0              0.000169         -0.000022         0.000021 (15-84 p)',\n",
       "       '----------  LCdata      ----- model:  normalization_factor',\n",
       "       '----------  LCdata      ----- model:  lc_model_b',\n",
       "       '----- dataset:  RV',\n",
       "       'jitter_0              0.898024         -0.460827         0.456572 (15-84 p)',\n",
       "       'offset_0          45062.993987         -0.870962         0.942402 (15-84 p)',\n",
       "       '----------  RV      ----- model:  gp_quasiperiodic',\n",
       "       'Hamp                  3.023139         -0.492463         0.638727 (15-84 p)',\n",
       "       '----------  RV      ----- model:  radial_velocities_b',\n",
       "       '----- common model:  b',\n",
       "       'P                     6.526750         -0.001614         0.001505 (15-84 p)',\n",
       "       'K                     3.035630         -0.580451         0.620168 (15-84 p)',\n",
       "       'e                     0.187304         -0.095509         0.082783 (15-84 p)',\n",
       "       'o                     0.829014         -0.489381         0.563085 (15-84 p)',\n",
       "       'Tc                 8876.000571         -0.003044         0.004149 (15-84 p)',\n",
       "       'i                    88.360916         -0.864339         0.994100 (15-84 p)',\n",
       "       'R                     0.018900         -0.000981         0.000917 (15-84 p)',\n",
       "       '----- common model:  star_parameters',\n",
       "       'rho                   0.698119         -0.082044         0.084412 (15-84 p)',\n",
       "       '----- common model:  limb_darkening',\n",
       "       'ld_c1                 0.688246         -0.390033         0.441760 (15-84 p)',\n",
       "       'ld_c2                -0.026071         -0.362522         0.432806 (15-84 p)',\n",
       "       '----- common model:  normalization_factor',\n",
       "       'n_factor              1.000005         -0.000012         0.000011 (15-84 p)',\n",
       "       '----- common model:  activity',\n",
       "       'Oamp                  0.541996         -0.115324         0.137864 (15-84 p)',\n",
       "       'Prot                 12.877111         -0.675644         0.713392 (15-84 p)',\n",
       "       'Pdec                 14.600670         -5.663484        11.340895 (15-84 p)',\n",
       "       '====================================================================================================',\n",
       "       '     Statistics on the derived parameters obtained from the posteriors samples     ',\n",
       "       '====================================================================================================',\n",
       "       '----- common model:  b',\n",
       "       'Computing planetary mass under the approximation M_planet << M_star (threshold at 30.0 Me)',\n",
       "       'a                    13.032135         -0.530668         0.506028 (15-84 p)',\n",
       "       'M                 2.897646e-05     -5.607707e-06     5.924767e-06 (15-84 p)',\n",
       "       'M_Mj                  0.030348         -0.005873         0.006205 (15-84 p)',\n",
       "       'M_Me                  9.647597         -1.867064         1.972628 (15-84 p)',\n",
       "       'f                     0.738665         -0.621787         5.422210 (15-84 p)',\n",
       "       'R_Rj                  0.242821         -0.012711         0.012016 (15-84 p)',\n",
       "       'R_Re                  2.721755         -0.142473         0.134683 (15-84 p)',\n",
       "       'a_AU_(M)              0.072030         -0.001261         0.001209 (15-84 p)',\n",
       "       'a_AU_(rho,R)          0.080033         -0.003347         0.003182 (15-84 p)',\n",
       "       '====================================================================================================',\n",
       "       '     ------------------------------------------------------------------------------------------     ',\n",
       "       '====================================================================================================',\n",
       "       '****************************************************************************************************',\n",
       "       ' Parameters corresponding to the Maximum a Posteriori probability ( 11653.648868406484 )',\n",
       "       '====================================================================================================',\n",
       "       '     Statistics on the posterior of the sampler variables     ',\n",
       "       '====================================================================================================',\n",
       "       '----- dataset:  LCdata',\n",
       "       'jitter_0        14      0.000162 ([  0.000005,   0.046640])',\n",
       "       '----------  LCdata      ----- model:  normalization_factor',\n",
       "       '----------  LCdata      ----- model:  lc_model_b',\n",
       "       '----- dataset:  RV',\n",
       "       'jitter_0        15      0.026726 ([  0.006808, 204.204100])',\n",
       "       'offset_0        16  45062.889445 ([35054.793657, 55074.172820])',\n",
       "       '----------  RV      ----- model:  gp_quasiperiodic',\n",
       "       'Hamp            17      2.995671 ([  0.000000,  40.000000])',\n",
       "       '----------  RV      ----- model:  radial_velocities_b',\n",
       "       '----- common model:  b',\n",
       "       'P                0      2.706531 ([  2.655352,   2.722466])',\n",
       "       'K                1      1.585398 ([ -3.321928,   6.643856])',\n",
       "       'sre_coso         2      0.099402 ([ -1.000000,   1.000000])',\n",
       "       'sre_sino         3      0.468455 ([ -1.000000,   1.000000])',\n",
       "       'Tc               4   8875.996870 ([8875.000000, 8877.000000])',\n",
       "       'i                5     88.979978 ([ 80.000000,  90.000000])',\n",
       "       'R                6      0.019286 ([  0.000010,   0.500000])',\n",
       "       '----- common model:  star_parameters',\n",
       "       'rho              9      0.689569 ([  0.000000,   5.000000])',\n",
       "       '----- common model:  limb_darkening',\n",
       "       'ld_q1            7      0.126949 ([  0.000000,   1.000000])',\n",
       "       'ld_q2            8      0.938976 ([  0.000000,   1.000000])',\n",
       "       '----- common model:  normalization_factor',\n",
       "       'n_factor        13      0.000013 ([ -0.074001,   0.070389])',\n",
       "       '----- common model:  activity',\n",
       "       'Oamp            10     -1.238485 ([ -6.643856,  -0.321928])',\n",
       "       'Prot            11     12.386197 ([  5.000000,  30.000000])',\n",
       "       'Pdec            12     10.189355 ([  1.000000, 500.000000])',\n",
       "       '====================================================================================================',\n",
       "       '     Statistics on the physical parameters obtained from the posteriors samples     ',\n",
       "       '====================================================================================================',\n",
       "       '----- dataset:  LCdata', 'jitter_0              0.000162 ',\n",
       "       '----------  LCdata      ----- model:  normalization_factor',\n",
       "       '----------  LCdata      ----- model:  lc_model_b',\n",
       "       '----- dataset:  RV', 'jitter_0              0.026726 ',\n",
       "       'offset_0          45062.889445 ',\n",
       "       '----------  RV      ----- model:  gp_quasiperiodic',\n",
       "       'Hamp                  2.995671 ',\n",
       "       '----------  RV      ----- model:  radial_velocities_b',\n",
       "       '----- common model:  b', 'P                     6.527504 ',\n",
       "       'K                     3.000906 ',\n",
       "       'e                     0.229331 ',\n",
       "       'o                     1.361707 ',\n",
       "       'Tc                 8875.996870 ',\n",
       "       'i                    88.979978 ',\n",
       "       'R                     0.019286 ',\n",
       "       '----- common model:  star_parameters',\n",
       "       'rho                   0.689569 ',\n",
       "       '----- common model:  limb_darkening',\n",
       "       'ld_c1                 0.669113 ',\n",
       "       'ld_c2                -0.312814 ',\n",
       "       '----- common model:  normalization_factor',\n",
       "       'n_factor              1.000009 ', '----- common model:  activity',\n",
       "       'Oamp                  0.423818 ',\n",
       "       'Prot                 12.386197 ',\n",
       "       'Pdec                 10.189355 ',\n",
       "       '====================================================================================================',\n",
       "       '     Statistics on the derived parameters obtained from the posteriors samples     ',\n",
       "       '====================================================================================================',\n",
       "       '----- common model:  b', 'a                    12.979963 ',\n",
       "       'M                     0.000028 ',\n",
       "       'M_Mj                  0.029498 ',\n",
       "       'M_Me                  9.377144 ',\n",
       "       'f                     0.227414 ',\n",
       "       'R_Rj                  0.245140 ',\n",
       "       'R_Re                  2.747755 ',\n",
       "       'a_AU_(M)              0.071635 ',\n",
       "       'a_AU_(rho,R)          0.078846 ',\n",
       "       '====================================================================================================',\n",
       "       '     ------------------------------------------------------------------------------------------     ',\n",
       "       '====================================================================================================',\n",
       "       '****************************************************************************************************',\n",
       "       'Note: priors on stellar mass and radius provided independently from the measured density, no check for consistency is performed',\n",
       "       ' Plotting full_correlation plot with GetDist',\n",
       "       ' Ignore the no burn in error warning from getdist',\n",
       "       ' since burn in has been already removed from the chains',\n",
       "       'Removed no burn in',\n",
       "       '****************************************************************************************************',\n",
       "       ' Plotting the common models corner plots',\n",
       "       '     Common model:  b', '     Common model:  star_parameters',\n",
       "       '     Common model:  limb_darkening',\n",
       "       '     Common model:  normalization_factor',\n",
       "       '     Common model:  activity',\n",
       "       '****************************************************************************************************',\n",
       "       ' Dataset + models corner plots ',\n",
       "       '     Dataset:  LCdata     model:  normalization_factor  corner plot  done ',\n",
       "       '     Dataset:  LCdata     model:  lc_model_b  corner plot  done ',\n",
       "       '     Dataset:  RV     model:  gp_quasiperiodic  corner plot  done ',\n",
       "       '     Dataset:  RV     model:  radial_velocities_b  corner plot  done ',\n",
       "       '****************************************************************************************************',\n",
       "       ' Saving the planet variable samplings to files (with plots)',\n",
       "       '****************************************************************************************************',\n",
       "       ' Saving all the variable samplings to files (with plots)',\n",
       "       '****************************************************************************************************',\n",
       "       ' Computing the models for plot/data writing ',\n",
       "       ' Writing the plots ', ' Writing the   data files ',\n",
       "       ' Writing the  MAP_ data files ',\n",
       "       '****************************************************************************************************'],\n",
       "      dtype='<U127')"
      ]
     },
     "execution_count": 3,
     "metadata": {},
     "output_type": "execute_result"
    }
   ],
   "source": [
    "reslog"
   ]
  },
  {
   "cell_type": "code",
   "execution_count": 6,
   "metadata": {},
   "outputs": [],
   "source": [
    "table = np.loadtxt('table_template_toi1778.txt',dtype=str,delimiter=',,,')"
   ]
  },
  {
   "cell_type": "code",
   "execution_count": 7,
   "metadata": {},
   "outputs": [
    {
     "data": {
      "text/plain": [
       "array(['\\\\begin{tabular}{ccccc}', '    \\\\hline \\\\\\\\',\n",
       "       '    Parameter & TOI-1778b  \\\\\\\\ \\\\\\\\', '    \\\\hline\\\\hline',\n",
       "       '    $K$ (ms$^{-1}$) & \\\\\\\\', '    $a$ (AU) & \\\\\\\\',\n",
       "       '    $i$ (deg) & \\\\\\\\',\n",
       "       '    $M_{\\\\rm P} ($\\\\,M$_{\\\\oplus})$ & \\\\\\\\',\n",
       "       '    $P$ (days) & \\\\\\\\', '    $T_{\\\\rm c}$ (days) & \\\\\\\\',\n",
       "       '\\\\end{tabular}'], dtype='<U37')"
      ]
     },
     "execution_count": 7,
     "metadata": {},
     "output_type": "execute_result"
    }
   ],
   "source": [
    "table"
   ]
  },
  {
   "cell_type": "code",
   "execution_count": 8,
   "metadata": {},
   "outputs": [
    {
     "data": {
      "text/plain": [
       "[93, 176]"
      ]
     },
     "execution_count": 8,
     "metadata": {},
     "output_type": "execute_result"
    }
   ],
   "source": [
    "heading = 'Statistics on the physical parameters obtained from the posteriors samples'\n",
    "[i for i,line in enumerate(reslog) if heading in line]"
   ]
  },
  {
   "cell_type": "code",
   "execution_count": 12,
   "metadata": {},
   "outputs": [
    {
     "data": {
      "text/plain": [
       "[142]"
      ]
     },
     "execution_count": 12,
     "metadata": {},
     "output_type": "execute_result"
    }
   ],
   "source": [
    "lower = 'Parameters corresponding to the Maximum a Posteriori probability'\n",
    "[i for i,line in enumerate(reslog) if lower in line]"
   ]
  },
  {
   "cell_type": "code",
   "execution_count": 13,
   "metadata": {},
   "outputs": [],
   "source": [
    "wanted = reslog[93:142]"
   ]
  },
  {
   "cell_type": "code",
   "execution_count": 14,
   "metadata": {},
   "outputs": [
    {
     "data": {
      "text/plain": [
       "array(['     Statistics on the physical parameters obtained from the posteriors samples     ',\n",
       "       '====================================================================================================',\n",
       "       '----- dataset:  LCdata',\n",
       "       'jitter_0              0.000169         -0.000022         0.000021 (15-84 p)',\n",
       "       '----------  LCdata      ----- model:  normalization_factor',\n",
       "       '----------  LCdata      ----- model:  lc_model_b',\n",
       "       '----- dataset:  RV',\n",
       "       'jitter_0              0.898024         -0.460827         0.456572 (15-84 p)',\n",
       "       'offset_0          45062.993987         -0.870962         0.942402 (15-84 p)',\n",
       "       '----------  RV      ----- model:  gp_quasiperiodic',\n",
       "       'Hamp                  3.023139         -0.492463         0.638727 (15-84 p)',\n",
       "       '----------  RV      ----- model:  radial_velocities_b',\n",
       "       '----- common model:  b',\n",
       "       'P                     6.526750         -0.001614         0.001505 (15-84 p)',\n",
       "       'K                     3.035630         -0.580451         0.620168 (15-84 p)',\n",
       "       'e                     0.187304         -0.095509         0.082783 (15-84 p)',\n",
       "       'o                     0.829014         -0.489381         0.563085 (15-84 p)',\n",
       "       'Tc                 8876.000571         -0.003044         0.004149 (15-84 p)',\n",
       "       'i                    88.360916         -0.864339         0.994100 (15-84 p)',\n",
       "       'R                     0.018900         -0.000981         0.000917 (15-84 p)',\n",
       "       '----- common model:  star_parameters',\n",
       "       'rho                   0.698119         -0.082044         0.084412 (15-84 p)',\n",
       "       '----- common model:  limb_darkening',\n",
       "       'ld_c1                 0.688246         -0.390033         0.441760 (15-84 p)',\n",
       "       'ld_c2                -0.026071         -0.362522         0.432806 (15-84 p)',\n",
       "       '----- common model:  normalization_factor',\n",
       "       'n_factor              1.000005         -0.000012         0.000011 (15-84 p)',\n",
       "       '----- common model:  activity',\n",
       "       'Oamp                  0.541996         -0.115324         0.137864 (15-84 p)',\n",
       "       'Prot                 12.877111         -0.675644         0.713392 (15-84 p)',\n",
       "       'Pdec                 14.600670         -5.663484        11.340895 (15-84 p)',\n",
       "       '====================================================================================================',\n",
       "       '     Statistics on the derived parameters obtained from the posteriors samples     ',\n",
       "       '====================================================================================================',\n",
       "       '----- common model:  b',\n",
       "       'Computing planetary mass under the approximation M_planet << M_star (threshold at 30.0 Me)',\n",
       "       'a                    13.032135         -0.530668         0.506028 (15-84 p)',\n",
       "       'M                 2.897646e-05     -5.607707e-06     5.924767e-06 (15-84 p)',\n",
       "       'M_Mj                  0.030348         -0.005873         0.006205 (15-84 p)',\n",
       "       'M_Me                  9.647597         -1.867064         1.972628 (15-84 p)',\n",
       "       'f                     0.738665         -0.621787         5.422210 (15-84 p)',\n",
       "       'R_Rj                  0.242821         -0.012711         0.012016 (15-84 p)',\n",
       "       'R_Re                  2.721755         -0.142473         0.134683 (15-84 p)',\n",
       "       'a_AU_(M)              0.072030         -0.001261         0.001209 (15-84 p)',\n",
       "       'a_AU_(rho,R)          0.080033         -0.003347         0.003182 (15-84 p)',\n",
       "       '====================================================================================================',\n",
       "       '     ------------------------------------------------------------------------------------------     ',\n",
       "       '====================================================================================================',\n",
       "       '****************************************************************************************************'],\n",
       "      dtype='<U127')"
      ]
     },
     "execution_count": 14,
     "metadata": {},
     "output_type": "execute_result"
    }
   ],
   "source": [
    "wanted"
   ]
  },
  {
   "cell_type": "code",
   "execution_count": 15,
   "metadata": {},
   "outputs": [],
   "source": [
    "sep = '----- common model'\n",
    "breaks = [i for i,line in enumerate(wanted) if sep in line]"
   ]
  },
  {
   "cell_type": "code",
   "execution_count": 16,
   "metadata": {},
   "outputs": [
    {
     "data": {
      "text/plain": [
       "[12, 20, 22, 25, 27, 34]"
      ]
     },
     "execution_count": 16,
     "metadata": {},
     "output_type": "execute_result"
    }
   ],
   "source": [
    "breaks"
   ]
  },
  {
   "cell_type": "code",
   "execution_count": 20,
   "metadata": {},
   "outputs": [
    {
     "data": {
      "text/plain": [
       "(array(['P                     6.526750         -0.001614         0.001505 (15-84 p)',\n",
       "        'K                     3.035630         -0.580451         0.620168 (15-84 p)',\n",
       "        'e                     0.187304         -0.095509         0.082783 (15-84 p)',\n",
       "        'o                     0.829014         -0.489381         0.563085 (15-84 p)',\n",
       "        'Tc                 8876.000571         -0.003044         0.004149 (15-84 p)',\n",
       "        'i                    88.360916         -0.864339         0.994100 (15-84 p)',\n",
       "        'R                     0.018900         -0.000981         0.000917 (15-84 p)'],\n",
       "       dtype='<U127'),\n",
       " array(['a                    13.032135         -0.530668         0.506028 (15-84 p)',\n",
       "        'M                 2.897646e-05     -5.607707e-06     5.924767e-06 (15-84 p)',\n",
       "        'M_Mj                  0.030348         -0.005873         0.006205 (15-84 p)',\n",
       "        'M_Me                  9.647597         -1.867064         1.972628 (15-84 p)',\n",
       "        'f                     0.738665         -0.621787         5.422210 (15-84 p)',\n",
       "        'R_Rj                  0.242821         -0.012711         0.012016 (15-84 p)',\n",
       "        'R_Re                  2.721755         -0.142473         0.134683 (15-84 p)',\n",
       "        'a_AU_(M)              0.072030         -0.001261         0.001209 (15-84 p)',\n",
       "        'a_AU_(rho,R)          0.080033         -0.003347         0.003182 (15-84 p)'],\n",
       "       dtype='<U127'))"
      ]
     },
     "execution_count": 20,
     "metadata": {},
     "output_type": "execute_result"
    }
   ],
   "source": [
    "wanted[13:20], wanted[36:45]"
   ]
  },
  {
   "cell_type": "code",
   "execution_count": 21,
   "metadata": {},
   "outputs": [],
   "source": [
    "b = {'K': [n for n in wanted[14].split(' ') if ''!=n ][1:4],\n",
    "    'a': [n for n in wanted[36].split(' ') if ''!=n ][1:4],\n",
    "    'i': [n for n in wanted[18].split(' ') if ''!=n ][1:4],\n",
    "    'Me': [n for n in wanted[39].split(' ') if ''!=n ][1:4],\n",
    "    'P': [n for n in wanted[13].split(' ') if ''!=n ][1:4],\n",
    "    'Tc': [n for n in wanted[17].split(' ') if ''!=n ][1:4]}"
   ]
  },
  {
   "cell_type": "code",
   "execution_count": 22,
   "metadata": {},
   "outputs": [
    {
     "data": {
      "text/plain": [
       "{'K': ['3.035630', '-0.580451', '0.620168'],\n",
       " 'a': ['13.032135', '-0.530668', '0.506028'],\n",
       " 'i': ['88.360916', '-0.864339', '0.994100'],\n",
       " 'Me': ['9.647597', '-1.867064', '1.972628'],\n",
       " 'P': ['6.526750', '-0.001614', '0.001505'],\n",
       " 'Tc': ['8876.000571', '-0.003044', '0.004149']}"
      ]
     },
     "execution_count": 22,
     "metadata": {},
     "output_type": "execute_result"
    }
   ],
   "source": [
    "b"
   ]
  },
  {
   "cell_type": "code",
   "execution_count": 25,
   "metadata": {},
   "outputs": [],
   "source": [
    "rsol = 6.96340e8\n",
    "au = 1.496e11\n",
    "b['a'] = [str(float(val)*rsol/au) for val in b['a']]"
   ]
  },
  {
   "cell_type": "code",
   "execution_count": 123,
   "metadata": {},
   "outputs": [],
   "source": [
    "dstr = ['$'+'{0:.2f}'.format(float(vals[0]))+'_{'+'{0:.2f}'.format(float(vals[1]))+\n",
    "        '}^{+'+'{0:.2f}'.format(float(vals[2]))+'}$' for vals in d.values()]"
   ]
  },
  {
   "cell_type": "code",
   "execution_count": 124,
   "metadata": {},
   "outputs": [
    {
     "data": {
      "text/plain": [
       "['$0.72_{-0.51}^{+0.91}$',\n",
       " '$0.12_{-0.01}^{+0.01}$',\n",
       " '$87.09_{-0.05}^{+0.05}$',\n",
       " '$1.69_{-1.19}^{+2.16}$',\n",
       " '$10.31_{-0.00}^{+0.00}$',\n",
       " '$4967.08_{-0.00}^{+0.00}$']"
      ]
     },
     "execution_count": 124,
     "metadata": {},
     "output_type": "execute_result"
    }
   ],
   "source": [
    "dstr"
   ]
  },
  {
   "cell_type": "code",
   "execution_count": 128,
   "metadata": {},
   "outputs": [
    {
     "data": {
      "text/plain": [
       "(array(['----- common model:  e',\n",
       "        'P                  16.145672         -0.000010         0.000010 (15-84 p)',\n",
       "        'o                   1.570796 ',\n",
       "        'Tc               4967.754865         -0.000395         0.000400 (15-84 p)',\n",
       "        'e                   0.000000 ',\n",
       "        'K                   2.309708         -1.005932         0.927414 (15-84 p)'],\n",
       "       dtype='<U105'),\n",
       " array(['----- common model:  e',\n",
       "        'Inclination randomized to  [8.766e+01 5.000e-02]',\n",
       "        'a                  33.717394         -2.241852         2.571810 (15-84 p)',\n",
       "        'i                  87.660721         -0.050761         0.049335 (15-84 p)',\n",
       "        'M                   0.000024         -0.000010         0.000010 (15-84 p)',\n",
       "        'f                   1.552814         -0.000157         0.000154 (15-84 p)',\n",
       "        'M_Mj                0.019586         -0.008603         0.008460 (15-84 p)',\n",
       "        'M_Me                6.226124         -2.734848         2.689415 (15-84 p)'],\n",
       "       dtype='<U105'))"
      ]
     },
     "execution_count": 128,
     "metadata": {},
     "output_type": "execute_result"
    }
   ],
   "source": [
    "wanted[15:21], wanted[37:45]"
   ]
  },
  {
   "cell_type": "code",
   "execution_count": 94,
   "metadata": {},
   "outputs": [],
   "source": [
    "e = {'K': [n for n in wanted[19].split(' ') if ''!=n ][1:4],\n",
    "     'a': [n for n in wanted[40].split(' ') if ''!=n ][1:4],\n",
    "     'i': [n for n in wanted[41].split(' ') if ''!=n ][1:4],\n",
    "     'Me': [n for n in wanted[45].split(' ') if ''!=n ][1:4],\n",
    "     'P': [n for n in wanted[16].split(' ') if ''!=n ][1:4],\n",
    "     'Tc': [n for n in wanted[18].split(' ') if ''!=n ][1:4]}"
   ]
  },
  {
   "cell_type": "code",
   "execution_count": 95,
   "metadata": {},
   "outputs": [
    {
     "data": {
      "text/plain": [
       "{'K': ['0.543910', '-0.350496', '0.595401'],\n",
       " 'a': ['33.750237', '-2.255122', '2.523912'],\n",
       " 'i': ['87.659855', '-0.049812', '0.050054'],\n",
       " 'Me': ['1.484833', '-0.958503', '1.631084'],\n",
       " 'P': ['16.145672', '-0.000010', '0.000010'],\n",
       " 'Tc': ['4967.754885', '-0.000400', '0.000397']}"
      ]
     },
     "execution_count": 95,
     "metadata": {},
     "output_type": "execute_result"
    }
   ],
   "source": [
    "e"
   ]
  },
  {
   "cell_type": "code",
   "execution_count": 96,
   "metadata": {},
   "outputs": [],
   "source": [
    "rsol = 6.96340e8\n",
    "au = 1.496e11\n",
    "e['a'] = [str(float(val)*rsol/au) for val in e['a']]"
   ]
  },
  {
   "cell_type": "code",
   "execution_count": 97,
   "metadata": {},
   "outputs": [],
   "source": [
    "estr = ['$'+'{0:.2f}'.format(float(vals[0]))+'_{'+'{0:.2f}'.format(float(vals[1]))+\n",
    "        '}^{+'+'{0:.2f}'.format(float(vals[2]))+'}$' for vals in e.values()]"
   ]
  },
  {
   "cell_type": "code",
   "execution_count": 98,
   "metadata": {},
   "outputs": [
    {
     "data": {
      "text/plain": [
       "['$0.54_{-0.35}^{+0.60}$',\n",
       " '$0.16_{-0.01}^{+0.01}$',\n",
       " '$87.66_{-0.05}^{+0.05}$',\n",
       " '$1.48_{-0.96}^{+1.63}$',\n",
       " '$16.15_{-0.00}^{+0.00}$',\n",
       " '$4967.75_{-0.00}^{+0.00}$']"
      ]
     },
     "execution_count": 98,
     "metadata": {},
     "output_type": "execute_result"
    }
   ],
   "source": [
    "estr"
   ]
  },
  {
   "cell_type": "code",
   "execution_count": 99,
   "metadata": {},
   "outputs": [
    {
     "data": {
      "text/plain": [
       "['\\\\begin{tabular}{ccccc}',\n",
       " '    \\\\hline \\\\\\\\',\n",
       " '    Parameter & Kepler-102d & Kepler-102e  \\\\\\\\ \\\\\\\\',\n",
       " '    \\\\hline\\\\hline',\n",
       " '    $K$ (ms$^{-1}$) & & \\\\\\\\',\n",
       " '    $a$ (AU) & & \\\\\\\\',\n",
       " '    $i$ (deg) & & \\\\\\\\',\n",
       " '    $M_{\\\\rm P} ($\\\\,M$_{\\\\oplus})$ & & \\\\\\\\',\n",
       " '    $P$ (days) & & \\\\\\\\',\n",
       " '    $T_{\\\\rm c}$ (days) & & \\\\\\\\',\n",
       " '\\\\end{tabular}']"
      ]
     },
     "execution_count": 99,
     "metadata": {},
     "output_type": "execute_result"
    }
   ],
   "source": [
    "table = list(table)\n",
    "table"
   ]
  },
  {
   "cell_type": "code",
   "execution_count": 100,
   "metadata": {},
   "outputs": [
    {
     "name": "stdout",
     "output_type": "stream",
     "text": [
      "    $K$ (ms$^{-1}$)  &  $0.29_{-0.15}^{+0.37}$  &  $0.54_{-0.35}^{+0.60}$ \\\\\n",
      "    $a$ (AU)  &  $0.12_{-0.01}^{+0.01}$  &  $0.16_{-0.01}^{+0.01}$ \\\\\n",
      "    $i$ (deg)  &  $87.09_{-0.05}^{+0.05}$  &  $87.66_{-0.05}^{+0.05}$ \\\\\n",
      "    $M_{\\rm P} ($\\,M$_{\\oplus})$  &  $0.67_{-0.35}^{+0.85}$  &  $1.48_{-0.96}^{+1.63}$ \\\\\n",
      "    $P$ (days)  &  $10.31_{-0.00}^{+0.00}$  &  $16.15_{-0.00}^{+0.00}$ \\\\\n",
      "    $T_{\\rm c}$ (days)  &  $4967.08_{-0.00}^{+0.00}$  &  $4967.75_{-0.00}^{+0.00}$ \\\\\n"
     ]
    }
   ],
   "source": [
    "# fill in the table...\n",
    "table = np.loadtxt('table_template.txt',dtype=str,delimiter=',,,')\n",
    "table = list(table)\n",
    "import re\n",
    "for i,row in enumerate(table[4:10]):\n",
    "    row = re.split('(\\& )',row)\n",
    "    row.insert(2,dstr[i])\n",
    "    row.insert(5,estr[i])\n",
    "    row = ' '.join(row)\n",
    "    print(row)\n",
    "    table[i+4]=row"
   ]
  },
  {
   "cell_type": "code",
   "execution_count": 101,
   "metadata": {},
   "outputs": [
    {
     "data": {
      "text/plain": [
       "['\\\\begin{tabular}{ccccc}',\n",
       " '    \\\\hline \\\\\\\\',\n",
       " '    Parameter & Kepler-102d & Kepler-102e  \\\\\\\\ \\\\\\\\',\n",
       " '    \\\\hline\\\\hline',\n",
       " '    $K$ (ms$^{-1}$)  &  $0.29_{-0.15}^{+0.37}$  &  $0.54_{-0.35}^{+0.60}$ \\\\\\\\',\n",
       " '    $a$ (AU)  &  $0.12_{-0.01}^{+0.01}$  &  $0.16_{-0.01}^{+0.01}$ \\\\\\\\',\n",
       " '    $i$ (deg)  &  $87.09_{-0.05}^{+0.05}$  &  $87.66_{-0.05}^{+0.05}$ \\\\\\\\',\n",
       " '    $M_{\\\\rm P} ($\\\\,M$_{\\\\oplus})$  &  $0.67_{-0.35}^{+0.85}$  &  $1.48_{-0.96}^{+1.63}$ \\\\\\\\',\n",
       " '    $P$ (days)  &  $10.31_{-0.00}^{+0.00}$  &  $16.15_{-0.00}^{+0.00}$ \\\\\\\\',\n",
       " '    $T_{\\\\rm c}$ (days)  &  $4967.08_{-0.00}^{+0.00}$  &  $4967.75_{-0.00}^{+0.00}$ \\\\\\\\',\n",
       " '\\\\end{tabular}']"
      ]
     },
     "execution_count": 101,
     "metadata": {},
     "output_type": "execute_result"
    }
   ],
   "source": [
    "table"
   ]
  },
  {
   "cell_type": "code",
   "execution_count": 102,
   "metadata": {},
   "outputs": [],
   "source": [
    "np.savetxt(fname+'.table', table, fmt='%s')"
   ]
  },
  {
   "cell_type": "code",
   "execution_count": 103,
   "metadata": {},
   "outputs": [
    {
     "data": {
      "text/plain": [
       "'Kepler-102_HARPSN_2pl_GP'"
      ]
     },
     "execution_count": 103,
     "metadata": {},
     "output_type": "execute_result"
    }
   ],
   "source": [
    "fname"
   ]
  },
  {
   "cell_type": "code",
   "execution_count": null,
   "metadata": {},
   "outputs": [],
   "source": []
  }
 ],
 "metadata": {
  "kernelspec": {
   "display_name": "Python 3",
   "language": "python",
   "name": "python3"
  },
  "language_info": {
   "codemirror_mode": {
    "name": "ipython",
    "version": 3
   },
   "file_extension": ".py",
   "mimetype": "text/x-python",
   "name": "python",
   "nbconvert_exporter": "python",
   "pygments_lexer": "ipython3",
   "version": "3.8.3"
  }
 },
 "nbformat": 4,
 "nbformat_minor": 4
}
